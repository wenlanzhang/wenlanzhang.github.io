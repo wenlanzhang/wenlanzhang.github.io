{
  "cells": [
    {
      "cell_type": "raw",
      "metadata": {},
      "source": [
        "---\n",
        "title: Presentation\n",
        "---"
      ],
      "id": "dd8f962c"
    },
    {
      "cell_type": "markdown",
      "metadata": {},
      "source": [
        "## Association of American Geographers Annual Meetings 2024 \n",
        "\n",
        "<img src=\"AAG_24.jpg\" style=\"height: 100%; width: 100%; object-fit: contain\" onclick=\"window.open('https://www.aag.org/wp-content/uploads/2024/04/AAG-2024-PDF-program-FINAL.pdf', 'blank');\"/>\n",
        "\n",
        "Wenlan Zhang, Dr. Angela Abascal, Dr. Chen Zhong, Dr. Qunshan Zhao\n",
        "\n",
        "16 - 20th April, 2024. Honolulu, Hawai'i, US\n",
        "\n",
        "<a href=\"https://github.com/wenlanzhang/wenlanzhang.github.io/blob/main/presentation/20240411AAG.pdf\" target=\"_blank\">Presentation</a> \n",
        "\n",
        "Title: A Data-Driven Approach for Identifying Open Dumping Sites in the Global South\n",
        "\n",
        "<!-- Final pdf: https://www.aag.org/wp-content/uploads/2024/04/AAG-2024-PDF-program-FINAL.pdf-->\n",
        "\n",
        "----\n",
        "\n",
        "## The 12 International Conference on Geographic Information Science\n",
        "<img src=\"GIScience_23.jpg\" style=\"height: 100%; width: 100%; object-fit: contain\" onclick=\"window.open('https://giscience2023.github.io/', 'blank');\"/>\n",
        "\n",
        "Wenlan Zhang, Dr. Chen Zhong, Dr. Faith Taylor\n",
        "\n",
        "12 - 15th September, 2023. Leeds, UK\n",
        "\n",
        "<a href=\"https://github.com/wenlanzhang/wenlanzhang.github.io/blob/main/presentation/20230914_GIScience.pdf\" target=\"_blank\">Presentation</a> | <a href=\"https://drops.dagstuhl.de/entities/document/10.4230/LIPIcs.GIScience.2023.94\" target=\"_blank\">Short Paper</a><br>\n",
        "\n",
        "Title: Digital Injustice: A Case Study of Land Use Classification using Multi-source Data in Nairobi, Kenya\n",
        "\n",
        "----\n",
        "\n",
        "```{latex}\n",
        "\\begin{minipage}{0.4\\textwidth}\n",
        "    \\centering\n",
        "    \\includegraphics[width=\\textwidth]{GIScience_23.jpg}\n",
        "\\end{minipage}\n",
        "\\hfill\n",
        "\\begin{minipage}{0.5\\textwidth}\n",
        "    Wenlan Zhang, Dr. Chen Zhong, Dr. Faith Taylor \\\\\n",
        "    12 - 15th September, 2023. Leeds, UK \\\\\n",
        "    \\href{https://github.com/wenlanzhang/wenlanzhang.github.io/blob/main/presentation/20230914_GIScience.pdf}{Presentation} | \\href{https://drops.dagstuhl.de/entities/document/10.4230/LIPIcs.GIScience.2023.94}{Short Paper} \\\\\n",
        "    Title: Digital Injustice: A Case Study of Land Use Classification using Multi-source Data in Nairobi, Kenya\n",
        "\\end{minipage}\n",
        "```"
      ],
      "id": "b4b61777"
    }
  ],
  "metadata": {
    "kernelspec": {
      "display_name": "Python 3",
      "language": "python",
      "name": "python3"
    }
  },
  "nbformat": 4,
  "nbformat_minor": 5
}